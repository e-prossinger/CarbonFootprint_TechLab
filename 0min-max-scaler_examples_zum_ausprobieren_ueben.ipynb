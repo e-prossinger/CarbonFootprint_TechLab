{
 "cells": [
  {
   "cell_type": "markdown",
   "metadata": {},
   "source": [
    "# min-max-scaler: Examples to get a feeling for the code"
   ]
  },
  {
   "cell_type": "code",
   "execution_count": 3,
   "metadata": {},
   "outputs": [
    {
     "name": "stdout",
     "output_type": "stream",
     "text": [
      "feature minimum seen in the data: [-1.  2.]\n",
      "feature range (max-min) seen in the data: [ 2. 16.]\n",
      "Number of features seen during fit: 2\n",
      "Names of features seen during fit (defined only when training-data has feature names that are all strings): ['column1' 'column2']\n",
      "Transformation of df2:\n",
      " [[0.   0.  ]\n",
      " [0.25 0.25]\n",
      " [0.5  0.5 ]\n",
      " [1.   1.  ]]\n",
      "Transformation of (2,2): [[1.5 0. ]]\n"
     ]
    }
   ],
   "source": [
    "import pandas as pd\n",
    "\n",
    "\n",
    "\n",
    "from sklearn.preprocessing import MinMaxScaler\n",
    "\n",
    "#Erklärung: https://scikit-learn.org/stable/modules/generated/sklearn.preprocessing.MinMaxScaler.html This transformation is an alternative to zero mean, unit variance scaling.\n",
    "\n",
    "#example for MinMaxScaler\n",
    "df2 = [[-1, 2], [-0.5, 6], [0, 10], [1, 18]] #4x2-metric. 1.Spalte: min=-1, range=2, 2.Spalte: min=2, range=16\n",
    "df2=pd.DataFrame(df2, columns=['column1', 'column2'])\n",
    "scaler = MinMaxScaler()\n",
    "scaler.fit(df2)\n",
    "#informationen über min-max-Scaler, der auf data trainiert wurde\n",
    "print(\"feature minimum seen in the data:\", scaler.data_min_) #minimum-werte\n",
    "print(\"feature range (max-min) seen in the data:\",scaler.data_range_) #Range-Werte \n",
    "print(\"Number of features seen during fit:\", scaler.n_features_in_)\n",
    "print(\"Names of features seen during fit (defined only when training-data has feature names that are all strings):\", scaler.feature_names_in_)\n",
    "\n",
    "#Ergebnis: transformieren von Werten\n",
    "print(\"Transformation of df2:\\n\",scaler.transform(df2)) #Ergebnis: transformierung von df2\n",
    "interest=pd.DataFrame([[2, 2]], columns=['column1', 'column2'])\n",
    "print(\"Transformation of (2,2):\",scaler.transform(interest)) #Ergebnis: transformierung von [2, 2]\n"
   ]
  },
  {
   "cell_type": "code",
   "execution_count": null,
   "metadata": {},
   "outputs": [],
   "source": []
  },
  {
   "cell_type": "code",
   "execution_count": null,
   "metadata": {},
   "outputs": [],
   "source": []
  },
  {
   "cell_type": "code",
   "execution_count": 5,
   "metadata": {},
   "outputs": [
    {
     "name": "stdout",
     "output_type": "stream",
     "text": [
      "feature minimum seen in the data: [-1.  2.]\n",
      "feature range (max-min) seen in the data: [ 2. 16.]\n",
      "Number of features seen during fit: 2\n",
      "Names of features seen during fit (defined only when training-data has feature names that are all strings): ['feature1' 'feature2']\n",
      "Transformation of df2:\n",
      " [[0.   0.  ]\n",
      " [0.25 0.25]\n",
      " [0.5  0.5 ]\n",
      " [1.   1.  ]]\n",
      "Transformation of (2,2): [[1.5 0. ]]\n",
      "Undo the scaling of X:\n",
      " [[-1.   2. ]\n",
      " [-0.5  6. ]\n",
      " [ 0.  10. ]\n",
      " [ 1.  18. ]]\n"
     ]
    }
   ],
   "source": [
    "import pandas as pd\n",
    "\n",
    "from sklearn.preprocessing import MinMaxScaler\n",
    "\n",
    "#Erklärung: https://scikit-learn.org/stable/modules/generated/sklearn.preprocessing.MinMaxScaler.html This transformation is an alternative to zero mean, unit variance scaling.\n",
    "\n",
    "#example for MinMaxScaler\n",
    "df2 = [[-1, 2,500], [-0.5, 6,700], [0, 10,500], [1, 18,600]] #4x2-metric. 1.Spalte: min=-1, länge=2, 2.Spalte: min=2, länge=16\n",
    "df2=pd.DataFrame(df2, columns=['feature1', 'feature2', 'CarbonEmission'])\n",
    "X_df2 = df2[['feature1', 'feature2']]\n",
    "y_df2 = df2['CarbonEmission']\n",
    "scaler = MinMaxScaler()\n",
    "scaler.fit(X_df2,y_df2)\n",
    "\n",
    "#informationen über min-max-Scaler, der auf data trainiert wurde\n",
    "print(\"feature minimum seen in the data:\", scaler.data_min_) #minimum-werte\n",
    "print(\"feature range (max-min) seen in the data:\",scaler.data_range_) #Range-Werte \n",
    "print(\"Number of features seen during fit:\", scaler.n_features_in_)\n",
    "print(\"Names of features seen during fit (defined only when training-data has feature names that are all strings):\", scaler.feature_names_in_)\n",
    "\n",
    "#Ergebnis: transformieren von Werten\n",
    "print(\"Transformation of df2:\\n\",scaler.transform(X_df2)) #Ergebnis: transformierung von df2\n",
    "interest=pd.DataFrame([[2, 2]], columns=['feature1', 'feature2'])\n",
    "print(\"Transformation of (2,2):\",scaler.transform(interest)) #Ergebnis: transformierung von [2, 2]\n",
    "\n",
    "print(\"Undo the scaling of X:\\n\",scaler.inverse_transform([[0.,   0.  ],[0.25, 0.25],[0.5,  0.5 ],[1.,   1.  ]]))#ergibt df2[['column1', 'column2']]\n",
    "\n",
    "\n"
   ]
  },
  {
   "cell_type": "code",
   "execution_count": null,
   "metadata": {},
   "outputs": [],
   "source": []
  },
  {
   "cell_type": "code",
   "execution_count": null,
   "metadata": {},
   "outputs": [],
   "source": []
  }
 ],
 "metadata": {
  "kernelspec": {
   "display_name": "elisabeth_python-umgebung_nr1",
   "language": "python",
   "name": "python3"
  },
  "language_info": {
   "codemirror_mode": {
    "name": "ipython",
    "version": 3
   },
   "file_extension": ".py",
   "mimetype": "text/x-python",
   "name": "python",
   "nbconvert_exporter": "python",
   "pygments_lexer": "ipython3",
   "version": "3.11.9"
  }
 },
 "nbformat": 4,
 "nbformat_minor": 2
}
